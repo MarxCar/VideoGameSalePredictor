{
 "cells": [
  {
   "cell_type": "code",
   "execution_count": 161,
   "metadata": {},
   "outputs": [],
   "source": [
    "import numpy as np\n",
    "import pandas as pd\n",
    "import matplotlib.pyplot as plt\n",
    "from sklearn.preprocessing import  LabelBinarizer, StandardScaler, CategoricalEncoder\n",
    "from sklearn.impute import SimpleImputer\n",
    "from sklearn.pipeline import Pipeline, FeatureUnion\n",
    "from sklearn.base import BaseEstimator, TransformerMixin\n",
    "from sklearn.model_selection import train_test_split, cross_val_score, StratifiedShuffleSplit\n",
    "from sklearn import svm\n",
    "from sklearn.metrics import mean_squared_error"
   ]
  },
  {
   "cell_type": "code",
   "execution_count": 117,
   "metadata": {},
   "outputs": [],
   "source": [
    "dataframe = pd.read_csv(\"vgsales.csv\").drop([\"Name\", \"Global_Sales\", \"Rank\", \"Publisher\"], axis=1)"
   ]
  },
  {
   "cell_type": "code",
   "execution_count": 98,
   "metadata": {},
   "outputs": [
    {
     "data": {
      "text/html": [
       "<div>\n",
       "<style scoped>\n",
       "    .dataframe tbody tr th:only-of-type {\n",
       "        vertical-align: middle;\n",
       "    }\n",
       "\n",
       "    .dataframe tbody tr th {\n",
       "        vertical-align: top;\n",
       "    }\n",
       "\n",
       "    .dataframe thead th {\n",
       "        text-align: right;\n",
       "    }\n",
       "</style>\n",
       "<table border=\"1\" class=\"dataframe\">\n",
       "  <thead>\n",
       "    <tr style=\"text-align: right;\">\n",
       "      <th></th>\n",
       "      <th>Year</th>\n",
       "      <th>NA_Sales</th>\n",
       "      <th>EU_Sales</th>\n",
       "      <th>JP_Sales</th>\n",
       "      <th>Other_Sales</th>\n",
       "    </tr>\n",
       "  </thead>\n",
       "  <tbody>\n",
       "    <tr>\n",
       "      <th>Year</th>\n",
       "      <td>1.000000</td>\n",
       "      <td>-0.091402</td>\n",
       "      <td>0.006014</td>\n",
       "      <td>-0.169316</td>\n",
       "      <td>0.041058</td>\n",
       "    </tr>\n",
       "    <tr>\n",
       "      <th>NA_Sales</th>\n",
       "      <td>-0.091402</td>\n",
       "      <td>1.000000</td>\n",
       "      <td>0.767727</td>\n",
       "      <td>0.449787</td>\n",
       "      <td>0.634737</td>\n",
       "    </tr>\n",
       "    <tr>\n",
       "      <th>EU_Sales</th>\n",
       "      <td>0.006014</td>\n",
       "      <td>0.767727</td>\n",
       "      <td>1.000000</td>\n",
       "      <td>0.435584</td>\n",
       "      <td>0.726385</td>\n",
       "    </tr>\n",
       "    <tr>\n",
       "      <th>JP_Sales</th>\n",
       "      <td>-0.169316</td>\n",
       "      <td>0.449787</td>\n",
       "      <td>0.435584</td>\n",
       "      <td>1.000000</td>\n",
       "      <td>0.290186</td>\n",
       "    </tr>\n",
       "    <tr>\n",
       "      <th>Other_Sales</th>\n",
       "      <td>0.041058</td>\n",
       "      <td>0.634737</td>\n",
       "      <td>0.726385</td>\n",
       "      <td>0.290186</td>\n",
       "      <td>1.000000</td>\n",
       "    </tr>\n",
       "  </tbody>\n",
       "</table>\n",
       "</div>"
      ],
      "text/plain": [
       "                 Year  NA_Sales  EU_Sales  JP_Sales  Other_Sales\n",
       "Year         1.000000 -0.091402  0.006014 -0.169316     0.041058\n",
       "NA_Sales    -0.091402  1.000000  0.767727  0.449787     0.634737\n",
       "EU_Sales     0.006014  0.767727  1.000000  0.435584     0.726385\n",
       "JP_Sales    -0.169316  0.449787  0.435584  1.000000     0.290186\n",
       "Other_Sales  0.041058  0.634737  0.726385  0.290186     1.000000"
      ]
     },
     "execution_count": 98,
     "metadata": {},
     "output_type": "execute_result"
    }
   ],
   "source": [
    "dataframe.corr()"
   ]
  },
  {
   "cell_type": "code",
   "execution_count": 131,
   "metadata": {},
   "outputs": [],
   "source": [
    "train_set, test_set = train_test_split(dataframe, test_size=0.2, random_state=42)"
   ]
  },
  {
   "cell_type": "code",
   "execution_count": 128,
   "metadata": {},
   "outputs": [
    {
     "data": {
      "text/plain": [
       "Platform       False\n",
       "Year            True\n",
       "Genre          False\n",
       "EU_Sales       False\n",
       "JP_Sales       False\n",
       "Other_Sales    False\n",
       "dtype: bool"
      ]
     },
     "execution_count": 128,
     "metadata": {},
     "output_type": "execute_result"
    }
   ],
   "source": [
    "dataframe.isnull().any()"
   ]
  },
  {
   "cell_type": "code",
   "execution_count": 113,
   "metadata": {},
   "outputs": [
    {
     "data": {
      "text/plain": [
       "<matplotlib.axes._subplots.AxesSubplot at 0x7fcadd502e50>"
      ]
     },
     "execution_count": 113,
     "metadata": {},
     "output_type": "execute_result"
    },
    {
     "data": {
      "image/png": "[encoded data removed]",
      "text/plain": [
       "<Figure size 432x288 with 1 Axes>"
      ]
     },
     "metadata": {},
     "output_type": "display_data"
    }
   ],
   "source": [
    "dataframe.plot(kind=\"scatter\", x=\"Year\",y=\"NA_Sales\", s=dataframe['NA_Sales'])"
   ]
  },
  {
   "cell_type": "code",
   "execution_count": 149,
   "metadata": {},
   "outputs": [
    {
     "name": "stdout",
     "output_type": "stream",
     "text": [
      "['Year', 'EU_Sales', 'JP_Sales', 'Other_Sales']\n"
     ]
    }
   ],
   "source": [
    "class DataFrameSelector(BaseEstimator, TransformerMixin):\n",
    "    def __init__(self, attribute_names):\n",
    "        self.attribute_names = attribute_names\n",
    "    def fit(self, X, y=None):\n",
    "        return self\n",
    "    def transform(self, X):\n",
    "        return X[self.attribute_names].values\n",
    "\n",
    "dataframe = train_set.drop([\"NA_Sales\"], axis=1)\n",
    "categorical_attributes = [\"Genre\", \"Platform\"]\n",
    "numerical_attributes = list(dataframe.drop(categorical_attributes, axis=1))\n",
    "print(numerical_attributes)"
   ]
  },
  {
   "cell_type": "code",
   "execution_count": 157,
   "metadata": {},
   "outputs": [],
   "source": [
    "num_pipeline = Pipeline([\n",
    "    ('selector', DataFrameSelector(numerical_attributes)),\n",
    "    ('imputer', SimpleImputer(strategy=\"median\")),  \n",
    "    ('std_scalar', StandardScaler()), \n",
    "])\n",
    "cat_pipeline = Pipeline([\n",
    "    ('selector', DataFrameSelector(categorical_attributes)),\n",
    "    ('label_binarizer', CategoricalEncoder()), \n",
    "])\n",
    "full_pipeline = FeatureUnion(transformer_list=[\n",
    "    (\"num_pipeline\", num_pipeline),\n",
    "    (\"cat_pipeline\", cat_pipeline),\n",
    "])\n",
    "\n",
    "dataframe_prepared = full_pipeline.fit_transform(dataframe)"
   ]
  },
  {
   "cell_type": "code",
   "execution_count": 158,
   "metadata": {},
   "outputs": [
    {
     "data": {
      "text/plain": [
       "count    10622.000000\n",
       "mean         0.257219\n",
       "std          0.740393\n",
       "min          0.000000\n",
       "25%          0.000000\n",
       "50%          0.080000\n",
       "75%          0.230000\n",
       "max         29.080000\n",
       "Name: NA_Sales, dtype: float64"
      ]
     },
     "execution_count": 158,
     "metadata": {},
     "output_type": "execute_result"
    }
   ],
   "source": [
    "train_set[\"NA_Sales\"].describe()"
   ]
  },
  {
   "cell_type": "code",
   "execution_count": 163,
   "metadata": {},
   "outputs": [
    {
     "name": "stdout",
     "output_type": "stream",
     "text": [
      "0.45540861617206263\n"
     ]
    }
   ],
   "source": [
    "labels = train_set[\"NA_Sales\"].copy()\n",
    "svm_reg = svm.SVR()\n",
    "svm_reg.fit(dataframe_prepared, labels)\n",
    "scores = cross_val_score(svm_reg, dataframe_prepared, labels, scoring=\"neg_mean_squared_error\", cv=10)\n",
    "h = np.sqrt(-scores)\n",
    "print h.mean()"
   ]
  },
  {
   "cell_type": "code",
   "execution_count": 164,
   "metadata": {},
   "outputs": [
    {
     "data": {
      "text/plain": [
       "0.20743939841912576"
      ]
     },
     "execution_count": 164,
     "metadata": {},
     "output_type": "execute_result"
    }
   ],
   "source": [
    "mean_squared_error(labels, svm_reg.predict(dataframe_prepared))"
   ]
  },
  {
   "cell_type": "code",
   "execution_count": 171,
   "metadata": {},
   "outputs": [
    {
     "name": "stdout",
     "output_type": "stream",
     "text": [
      "0.35226973856468174\n"
     ]
    }
   ],
   "source": [
    "X_test = test_set.drop([\"NA_Sales\"], axis=1)\n",
    "y_test = test_set[\"NA_Sales\"].copy()\n",
    "\n",
    "prepared_x = full_pipeline.transform(X_test)\n",
    "predictions = svm_reg.predict(prepared_x)\n",
    "\n",
    "print(mean_squared_error(y_test, predictions))"
   ]
  }
 ],
 "metadata": {
  "kernelspec": {
   "display_name": "Python 2",
   "language": "python",
   "name": "python2"
  },
  "language_info": {
   "codemirror_mode": {
    "name": "ipython",
    "version": 2
   },
   "file_extension": ".py",
   "mimetype": "text/x-python",
   "name": "python",
   "nbconvert_exporter": "python",
   "pygments_lexer": "ipython2",
   "version": "2.7.15"
  }
 },
 "nbformat": 4,
 "nbformat_minor": 2
}
